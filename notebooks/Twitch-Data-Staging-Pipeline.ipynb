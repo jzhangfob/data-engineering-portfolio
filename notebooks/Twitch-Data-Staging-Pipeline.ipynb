{
  "nbformat": 4,
  "nbformat_minor": 0,
  "metadata": {
    "colab": {
      "provenance": [],
      "authorship_tag": "ABX9TyMaOyJafQPmvMD24P220Fs6",
      "include_colab_link": true
    },
    "kernelspec": {
      "name": "python3",
      "display_name": "Python 3"
    },
    "language_info": {
      "name": "python"
    }
  },
  "cells": [
    {
      "cell_type": "markdown",
      "metadata": {
        "id": "view-in-github",
        "colab_type": "text"
      },
      "source": [
        "<a href=\"https://colab.research.google.com/github/jzhangfob/igdb-games-data-pipeline/blob/feature%2Fstaging-data-pipeline/notebooks/Twitch-Data-Staging-Pipeline.ipynb\" target=\"_parent\"><img src=\"https://colab.research.google.com/assets/colab-badge.svg\" alt=\"Open In Colab\"/></a>"
      ]
    },
    {
      "cell_type": "code",
      "source": [
        "!git checkout remotes/origin/feature/staging-data-pipeline"
      ],
      "metadata": {
        "id": "rVSrXRwMhzm8",
        "outputId": "51167c91-0fdb-409c-e71a-196a14957ed6",
        "colab": {
          "base_uri": "https://localhost:8080/"
        }
      },
      "execution_count": 10,
      "outputs": [
        {
          "output_type": "stream",
          "name": "stdout",
          "text": [
            "Note: switching to 'remotes/origin/feature/staging-data-pipeline'.\n",
            "\n",
            "You are in 'detached HEAD' state. You can look around, make experimental\n",
            "changes and commit them, and you can discard any commits you make in this\n",
            "state without impacting any branches by switching back to a branch.\n",
            "\n",
            "If you want to create a new branch to retain commits you create, you may\n",
            "do so (now or later) by using -c with the switch command. Example:\n",
            "\n",
            "  git switch -c <new-branch-name>\n",
            "\n",
            "Or undo this operation with:\n",
            "\n",
            "  git switch -\n",
            "\n",
            "Turn off this advice by setting config variable advice.detachedHead to false\n",
            "\n",
            "HEAD is now at 704678f Merge pull request #5 from jzhangfob/feature/remove-incorrect-file\n"
          ]
        }
      ]
    },
    {
      "cell_type": "code",
      "source": [
        "print ('hello world')"
      ],
      "metadata": {
        "id": "sMu1lAs8h9gl",
        "outputId": "214acf75-84ac-4fec-a4bd-b66acff0db2b",
        "colab": {
          "base_uri": "https://localhost:8080/"
        }
      },
      "execution_count": 11,
      "outputs": [
        {
          "output_type": "stream",
          "name": "stdout",
          "text": [
            "hello world\n"
          ]
        }
      ]
    },
    {
      "cell_type": "code",
      "source": [
        "!git add Twitch-Data-Staging-Pipeline.ipynb"
      ],
      "metadata": {
        "id": "9ABWRp5tiK5J"
      },
      "execution_count": 12,
      "outputs": []
    },
    {
      "cell_type": "code",
      "source": [
        "!git commit -m \"Testing whether changes in remote branch from Colab propogate to Git\""
      ],
      "metadata": {
        "id": "yKsN-UxAiNxl",
        "outputId": "ec765084-93d7-436c-e26d-850fc07d161f",
        "colab": {
          "base_uri": "https://localhost:8080/"
        }
      },
      "execution_count": 13,
      "outputs": [
        {
          "output_type": "stream",
          "name": "stdout",
          "text": [
            "\u001b[31mHEAD detached at \u001b[morigin/feature/staging-data-pipeline\n",
            "nothing to commit, working tree clean\n"
          ]
        }
      ]
    },
    {
      "cell_type": "code",
      "source": [],
      "metadata": {
        "id": "dm3ozGQViVAK"
      },
      "execution_count": null,
      "outputs": []
    }
  ]
}